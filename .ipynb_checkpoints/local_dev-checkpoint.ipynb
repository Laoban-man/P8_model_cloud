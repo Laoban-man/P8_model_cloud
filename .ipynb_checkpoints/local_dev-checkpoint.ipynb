{
 "cells": [
  {
   "cell_type": "code",
   "execution_count": 1,
   "id": "d07722ae-dc56-47bd-8d6b-41a997c4f5f5",
   "metadata": {},
   "outputs": [],
   "source": [
    "import numpy as np\n",
    "import pandas as pd\n",
    "\n",
    "import matplotlib.pyplot as plt\n",
    "import seaborn as sns\n",
    "import PIL\n",
    "from io import StringIO\n",
    "from PIL import Image\n",
    "\n",
    "from glob import glob\n",
    "import cv2\n",
    "from tqdm import tqdm\n",
    "\n",
    "from pyspark import SparkContext\n",
    "\n",
    "from pyspark import SparkConf\n",
    "\n",
    "from pyspark.sql import SparkSession\n",
    "#import sagemaker_pyspark\n",
    "import botocore.session\n",
    "from pyspark import SparkConf\n",
    "from pyspark.sql.functions import lit\n",
    "\n",
    "import pyspark.sql.functions as F\n",
    "from pyspark.ml.image import ImageSchema\n",
    "from pyspark.ml.linalg import DenseVector, VectorUDT\n",
    "from pyspark.sql.types import ArrayType, DoubleType,IntegerType,FloatType\n",
    "from pyspark.ml.feature import MinMaxScaler,VectorAssembler,PCA\n",
    "\n",
    "\n",
    "import sys"
   ]
  },
  {
   "cell_type": "code",
   "execution_count": 2,
   "id": "8147c208-729c-463e-bdf1-f89f164375ad",
   "metadata": {
    "tags": []
   },
   "outputs": [],
   "source": [
    "image_folder=\"/home/hysterio/code/open-classrooms/data/fruits/fruits-360_dataset/fruits-360/Training/\"\n",
    "#types=glob(image_folder+\"*/*.jpg\")\n",
    "types=glob(image_folder+\"Apricot/*.jpg\")\n",
    "list_pictures=types\n",
    "types=glob(image_folder+\"*/\")\n",
    "types=[a[87:-1] for a in types]\n",
    "#types"
   ]
  },
  {
   "cell_type": "code",
   "execution_count": 18,
   "id": "84303f65-d0b0-413e-af82-7a4fee66d2be",
   "metadata": {},
   "outputs": [],
   "source": [
    "spark.stop()"
   ]
  },
  {
   "cell_type": "code",
   "execution_count": 3,
   "id": "c8a53522-acdb-4d29-8cab-d58b0e4778b7",
   "metadata": {},
   "outputs": [],
   "source": [
    "#conf = SparkConf()\n",
    "#spark = SparkContext(conf=conf)   \n",
    "spark = SparkSession.builder.appName('SparkByExamples.com').getOrCreate()\n",
    "file_rdd = spark.sparkContext.parallelize(list_pictures)\n",
    "\n",
    "def image_to_array(path):\n",
    "    im = Image.open(path)\n",
    "    data = np.asarray(im)\n",
    "    data=data.flatten()\n",
    "    return data\n",
    "\n",
    "array_rdd = file_rdd.map(lambda f: (\"Apricot\",DenseVector(image_to_array(f))))\n",
    "training_data=array_rdd.toDF([\"Fruit\",\"Array\"])"
   ]
  },
  {
   "cell_type": "code",
   "execution_count": 4,
   "id": "24fc6b4b-028b-42a0-a502-a05ed5c71133",
   "metadata": {
    "tags": []
   },
   "outputs": [],
   "source": [
    "training_y=training_data.Fruit\n",
    "\n",
    "def split_array_to_list(col):\n",
    "    def to_list(v):\n",
    "        return v.toArray().tolist()\n",
    "    return F.udf(to_list, ArrayType(FloatType()))(col)\n",
    "\n",
    "training_X = training_data.select(split_array_to_list(F.col(\"Array\")).alias(\"dim\")).select([F.col(\"dim\")[i] for i in range(3)])\n",
    "#training_X.show()"
   ]
  },
  {
   "cell_type": "code",
   "execution_count": null,
   "id": "864d0a8e-14c9-43b8-ab1b-3d603a301593",
   "metadata": {
    "collapsed": true,
    "jupyter": {
     "outputs_hidden": true
    },
    "tags": []
   },
   "outputs": [
    {
     "name": "stderr",
     "output_type": "stream",
     "text": [
      "Exception ignored in: <function JavaObject.__init__.<locals>.<lambda> at 0x7fb048c57c20>\n",
      "Traceback (most recent call last):\n",
      "  File \"/home/hysterio/.pyenv/versions/3.7.6/envs/vivadata/lib/python3.7/site-packages/py4j/java_gateway.py\", line 1341, in <lambda>\n",
      "    _garbage_collect_object and _garbage_collect_object(cc, id))\n",
      "  File \"/home/hysterio/.pyenv/versions/3.7.6/envs/vivadata/lib/python3.7/site-packages/py4j/java_gateway.py\", line 645, in _garbage_collect_object\n",
      "    gateway_client.garbage_collect_object(target_id)\n",
      "  File \"/home/hysterio/.pyenv/versions/3.7.6/envs/vivadata/lib/python3.7/site-packages/py4j/java_gateway.py\", line 968, in garbage_collect_object\n",
      "    \"\\ne\\n\")\n",
      "  File \"/home/hysterio/.pyenv/versions/3.7.6/envs/vivadata/lib/python3.7/site-packages/py4j/java_gateway.py\", line 1031, in send_command\n",
      "    connection = self._get_connection()\n",
      "  File \"/home/hysterio/.pyenv/versions/3.7.6/envs/vivadata/lib/python3.7/site-packages/py4j/java_gateway.py\", line 979, in _get_connection\n",
      "    connection = self._create_connection()\n",
      "  File \"/home/hysterio/.pyenv/versions/3.7.6/envs/vivadata/lib/python3.7/site-packages/py4j/java_gateway.py\", line 985, in _create_connection\n",
      "    connection.start()\n",
      "  File \"/home/hysterio/.pyenv/versions/3.7.6/envs/vivadata/lib/python3.7/site-packages/py4j/java_gateway.py\", line 1119, in start\n",
      "    self._authenticate_connection()\n",
      "  File \"/home/hysterio/.pyenv/versions/3.7.6/envs/vivadata/lib/python3.7/site-packages/py4j/java_gateway.py\", line 1135, in _authenticate_connection\n",
      "    answer = self.send_command(cmd)\n",
      "  File \"/home/hysterio/.pyenv/versions/3.7.6/envs/vivadata/lib/python3.7/site-packages/py4j/java_gateway.py\", line 1200, in send_command\n",
      "    answer = smart_decode(self.stream.readline()[:-1])\n",
      "  File \"/home/hysterio/.pyenv/versions/3.7.6/lib/python3.7/socket.py\", line 589, in readinto\n",
      "    return self._sock.recv_into(b)\n",
      "KeyboardInterrupt: \n",
      "Exception ignored in: <function JavaObject.__init__.<locals>.<lambda> at 0x7fb048dd6d40>\n",
      "Traceback (most recent call last):\n",
      "  File \"/home/hysterio/.pyenv/versions/3.7.6/envs/vivadata/lib/python3.7/site-packages/py4j/java_gateway.py\", line 1341, in <lambda>\n",
      "    _garbage_collect_object and _garbage_collect_object(cc, id))\n",
      "  File \"/home/hysterio/.pyenv/versions/3.7.6/envs/vivadata/lib/python3.7/site-packages/py4j/java_gateway.py\", line 645, in _garbage_collect_object\n",
      "    gateway_client.garbage_collect_object(target_id)\n",
      "  File \"/home/hysterio/.pyenv/versions/3.7.6/envs/vivadata/lib/python3.7/site-packages/py4j/java_gateway.py\", line 968, in garbage_collect_object\n",
      "    \"\\ne\\n\")\n",
      "  File \"/home/hysterio/.pyenv/versions/3.7.6/envs/vivadata/lib/python3.7/site-packages/py4j/java_gateway.py\", line 1031, in send_command\n",
      "    connection = self._get_connection()\n",
      "  File \"/home/hysterio/.pyenv/versions/3.7.6/envs/vivadata/lib/python3.7/site-packages/py4j/java_gateway.py\", line 979, in _get_connection\n",
      "    connection = self._create_connection()\n",
      "  File \"/home/hysterio/.pyenv/versions/3.7.6/envs/vivadata/lib/python3.7/site-packages/py4j/java_gateway.py\", line 985, in _create_connection\n",
      "    connection.start()\n",
      "  File \"/home/hysterio/.pyenv/versions/3.7.6/envs/vivadata/lib/python3.7/site-packages/py4j/java_gateway.py\", line 1119, in start\n",
      "    self._authenticate_connection()\n",
      "  File \"/home/hysterio/.pyenv/versions/3.7.6/envs/vivadata/lib/python3.7/site-packages/py4j/java_gateway.py\", line 1135, in _authenticate_connection\n",
      "    answer = self.send_command(cmd)\n",
      "  File \"/home/hysterio/.pyenv/versions/3.7.6/envs/vivadata/lib/python3.7/site-packages/py4j/java_gateway.py\", line 1200, in send_command\n",
      "    answer = smart_decode(self.stream.readline()[:-1])\n",
      "  File \"/home/hysterio/.pyenv/versions/3.7.6/lib/python3.7/socket.py\", line 589, in readinto\n",
      "    return self._sock.recv_into(b)\n",
      "KeyboardInterrupt: \n",
      "Exception ignored in: <function JavaObject.__init__.<locals>.<lambda> at 0x7fb048c57170>\n",
      "Traceback (most recent call last):\n",
      "  File \"/home/hysterio/.pyenv/versions/3.7.6/envs/vivadata/lib/python3.7/site-packages/py4j/java_gateway.py\", line 1341, in <lambda>\n",
      "    _garbage_collect_object and _garbage_collect_object(cc, id))\n",
      "  File \"/home/hysterio/.pyenv/versions/3.7.6/envs/vivadata/lib/python3.7/site-packages/py4j/java_gateway.py\", line 645, in _garbage_collect_object\n",
      "    gateway_client.garbage_collect_object(target_id)\n",
      "  File \"/home/hysterio/.pyenv/versions/3.7.6/envs/vivadata/lib/python3.7/site-packages/py4j/java_gateway.py\", line 968, in garbage_collect_object\n",
      "    \"\\ne\\n\")\n",
      "  File \"/home/hysterio/.pyenv/versions/3.7.6/envs/vivadata/lib/python3.7/site-packages/py4j/java_gateway.py\", line 1031, in send_command\n",
      "    connection = self._get_connection()\n",
      "  File \"/home/hysterio/.pyenv/versions/3.7.6/envs/vivadata/lib/python3.7/site-packages/py4j/java_gateway.py\", line 979, in _get_connection\n",
      "    connection = self._create_connection()\n",
      "  File \"/home/hysterio/.pyenv/versions/3.7.6/envs/vivadata/lib/python3.7/site-packages/py4j/java_gateway.py\", line 985, in _create_connection\n",
      "    connection.start()\n",
      "  File \"/home/hysterio/.pyenv/versions/3.7.6/envs/vivadata/lib/python3.7/site-packages/py4j/java_gateway.py\", line 1119, in start\n",
      "    self._authenticate_connection()\n",
      "  File \"/home/hysterio/.pyenv/versions/3.7.6/envs/vivadata/lib/python3.7/site-packages/py4j/java_gateway.py\", line 1135, in _authenticate_connection\n",
      "    answer = self.send_command(cmd)\n",
      "  File \"/home/hysterio/.pyenv/versions/3.7.6/envs/vivadata/lib/python3.7/site-packages/py4j/java_gateway.py\", line 1200, in send_command\n",
      "    answer = smart_decode(self.stream.readline()[:-1])\n",
      "  File \"/home/hysterio/.pyenv/versions/3.7.6/lib/python3.7/socket.py\", line 589, in readinto\n",
      "    return self._sock.recv_into(b)\n",
      "KeyboardInterrupt: \n"
     ]
    }
   ],
   "source": [
    "assembler = VectorAssembler(inputCols=training_X.columns,outputCol=\"features\")\n",
    "training_X = assembler.transform(training_X)\n",
    "scaler = MinMaxScaler(inputCol=\"features\", outputCol=\"scaledFeatures\")\n",
    "scaledData = scaler.fit(training_X).transform(training_X)\n",
    "#scaledData.show()"
   ]
  },
  {
   "cell_type": "code",
   "execution_count": 8,
   "id": "3fabbdfa-83d1-43a4-a22b-7437b06e0a94",
   "metadata": {
    "tags": []
   },
   "outputs": [
    {
     "ename": "IllegalArgumentException",
     "evalue": "scaledFeatures does not exist. Available: dim[0], dim[1], dim[2]",
     "output_type": "error",
     "traceback": [
      "\u001b[0;31m---------------------------------------------------------------------------\u001b[0m",
      "\u001b[0;31mIllegalArgumentException\u001b[0m                  Traceback (most recent call last)",
      "\u001b[0;32m<ipython-input-8-5a55ca0f6b18>\u001b[0m in \u001b[0;36m<module>\u001b[0;34m\u001b[0m\n\u001b[1;32m      1\u001b[0m \u001b[0mpca\u001b[0m\u001b[0;34m=\u001b[0m\u001b[0mPCA\u001b[0m\u001b[0;34m(\u001b[0m\u001b[0mk\u001b[0m\u001b[0;34m=\u001b[0m\u001b[0;36m2\u001b[0m\u001b[0;34m,\u001b[0m\u001b[0minputCol\u001b[0m\u001b[0;34m=\u001b[0m\u001b[0;34m\"scaledFeatures\"\u001b[0m\u001b[0;34m,\u001b[0m\u001b[0moutputCol\u001b[0m\u001b[0;34m=\u001b[0m\u001b[0;34m\"pcaFeatures\"\u001b[0m\u001b[0;34m)\u001b[0m\u001b[0;34m\u001b[0m\u001b[0;34m\u001b[0m\u001b[0m\n\u001b[0;32m----> 2\u001b[0;31m \u001b[0mmodel\u001b[0m\u001b[0;34m=\u001b[0m\u001b[0mpca\u001b[0m\u001b[0;34m.\u001b[0m\u001b[0mfit\u001b[0m\u001b[0;34m(\u001b[0m\u001b[0mtraining_X\u001b[0m\u001b[0;34m)\u001b[0m\u001b[0;34m\u001b[0m\u001b[0;34m\u001b[0m\u001b[0m\n\u001b[0m\u001b[1;32m      3\u001b[0m \u001b[0mreduced_data\u001b[0m\u001b[0;34m=\u001b[0m\u001b[0mmodel\u001b[0m\u001b[0;34m.\u001b[0m\u001b[0mtransform\u001b[0m\u001b[0;34m(\u001b[0m\u001b[0mtraining_X\u001b[0m\u001b[0;34m)\u001b[0m\u001b[0;34m.\u001b[0m\u001b[0mselect\u001b[0m\u001b[0;34m(\u001b[0m\u001b[0;34m\"pcaFeatures\"\u001b[0m\u001b[0;34m)\u001b[0m\u001b[0;34m\u001b[0m\u001b[0;34m\u001b[0m\u001b[0m\n\u001b[1;32m      4\u001b[0m \u001b[0mnew_data\u001b[0m\u001b[0;34m=\u001b[0m\u001b[0mreduced_data\u001b[0m\u001b[0;34m.\u001b[0m\u001b[0mtoPandas\u001b[0m\u001b[0;34m(\u001b[0m\u001b[0;34m)\u001b[0m\u001b[0;34m\u001b[0m\u001b[0;34m\u001b[0m\u001b[0m\n\u001b[1;32m      5\u001b[0m \u001b[0mdataX\u001b[0m\u001b[0;34m=\u001b[0m\u001b[0;34m[\u001b[0m\u001b[0;34m]\u001b[0m\u001b[0;34m\u001b[0m\u001b[0;34m\u001b[0m\u001b[0m\n",
      "\u001b[0;32m~/.pyenv/versions/3.7.6/envs/vivadata/lib/python3.7/site-packages/pyspark/ml/base.py\u001b[0m in \u001b[0;36mfit\u001b[0;34m(self, dataset, params)\u001b[0m\n\u001b[1;32m    159\u001b[0m                 \u001b[0;32mreturn\u001b[0m \u001b[0mself\u001b[0m\u001b[0;34m.\u001b[0m\u001b[0mcopy\u001b[0m\u001b[0;34m(\u001b[0m\u001b[0mparams\u001b[0m\u001b[0;34m)\u001b[0m\u001b[0;34m.\u001b[0m\u001b[0m_fit\u001b[0m\u001b[0;34m(\u001b[0m\u001b[0mdataset\u001b[0m\u001b[0;34m)\u001b[0m\u001b[0;34m\u001b[0m\u001b[0;34m\u001b[0m\u001b[0m\n\u001b[1;32m    160\u001b[0m             \u001b[0;32melse\u001b[0m\u001b[0;34m:\u001b[0m\u001b[0;34m\u001b[0m\u001b[0;34m\u001b[0m\u001b[0m\n\u001b[0;32m--> 161\u001b[0;31m                 \u001b[0;32mreturn\u001b[0m \u001b[0mself\u001b[0m\u001b[0;34m.\u001b[0m\u001b[0m_fit\u001b[0m\u001b[0;34m(\u001b[0m\u001b[0mdataset\u001b[0m\u001b[0;34m)\u001b[0m\u001b[0;34m\u001b[0m\u001b[0;34m\u001b[0m\u001b[0m\n\u001b[0m\u001b[1;32m    162\u001b[0m         \u001b[0;32melse\u001b[0m\u001b[0;34m:\u001b[0m\u001b[0;34m\u001b[0m\u001b[0;34m\u001b[0m\u001b[0m\n\u001b[1;32m    163\u001b[0m             raise ValueError(\"Params must be either a param map or a list/tuple of param maps, \"\n",
      "\u001b[0;32m~/.pyenv/versions/3.7.6/envs/vivadata/lib/python3.7/site-packages/pyspark/ml/wrapper.py\u001b[0m in \u001b[0;36m_fit\u001b[0;34m(self, dataset)\u001b[0m\n\u001b[1;32m    333\u001b[0m \u001b[0;34m\u001b[0m\u001b[0m\n\u001b[1;32m    334\u001b[0m     \u001b[0;32mdef\u001b[0m \u001b[0m_fit\u001b[0m\u001b[0;34m(\u001b[0m\u001b[0mself\u001b[0m\u001b[0;34m,\u001b[0m \u001b[0mdataset\u001b[0m\u001b[0;34m)\u001b[0m\u001b[0;34m:\u001b[0m\u001b[0;34m\u001b[0m\u001b[0;34m\u001b[0m\u001b[0m\n\u001b[0;32m--> 335\u001b[0;31m         \u001b[0mjava_model\u001b[0m \u001b[0;34m=\u001b[0m \u001b[0mself\u001b[0m\u001b[0;34m.\u001b[0m\u001b[0m_fit_java\u001b[0m\u001b[0;34m(\u001b[0m\u001b[0mdataset\u001b[0m\u001b[0;34m)\u001b[0m\u001b[0;34m\u001b[0m\u001b[0;34m\u001b[0m\u001b[0m\n\u001b[0m\u001b[1;32m    336\u001b[0m         \u001b[0mmodel\u001b[0m \u001b[0;34m=\u001b[0m \u001b[0mself\u001b[0m\u001b[0;34m.\u001b[0m\u001b[0m_create_model\u001b[0m\u001b[0;34m(\u001b[0m\u001b[0mjava_model\u001b[0m\u001b[0;34m)\u001b[0m\u001b[0;34m\u001b[0m\u001b[0;34m\u001b[0m\u001b[0m\n\u001b[1;32m    337\u001b[0m         \u001b[0;32mreturn\u001b[0m \u001b[0mself\u001b[0m\u001b[0;34m.\u001b[0m\u001b[0m_copyValues\u001b[0m\u001b[0;34m(\u001b[0m\u001b[0mmodel\u001b[0m\u001b[0;34m)\u001b[0m\u001b[0;34m\u001b[0m\u001b[0;34m\u001b[0m\u001b[0m\n",
      "\u001b[0;32m~/.pyenv/versions/3.7.6/envs/vivadata/lib/python3.7/site-packages/pyspark/ml/wrapper.py\u001b[0m in \u001b[0;36m_fit_java\u001b[0;34m(self, dataset)\u001b[0m\n\u001b[1;32m    330\u001b[0m         \"\"\"\n\u001b[1;32m    331\u001b[0m         \u001b[0mself\u001b[0m\u001b[0;34m.\u001b[0m\u001b[0m_transfer_params_to_java\u001b[0m\u001b[0;34m(\u001b[0m\u001b[0;34m)\u001b[0m\u001b[0;34m\u001b[0m\u001b[0;34m\u001b[0m\u001b[0m\n\u001b[0;32m--> 332\u001b[0;31m         \u001b[0;32mreturn\u001b[0m \u001b[0mself\u001b[0m\u001b[0;34m.\u001b[0m\u001b[0m_java_obj\u001b[0m\u001b[0;34m.\u001b[0m\u001b[0mfit\u001b[0m\u001b[0;34m(\u001b[0m\u001b[0mdataset\u001b[0m\u001b[0;34m.\u001b[0m\u001b[0m_jdf\u001b[0m\u001b[0;34m)\u001b[0m\u001b[0;34m\u001b[0m\u001b[0;34m\u001b[0m\u001b[0m\n\u001b[0m\u001b[1;32m    333\u001b[0m \u001b[0;34m\u001b[0m\u001b[0m\n\u001b[1;32m    334\u001b[0m     \u001b[0;32mdef\u001b[0m \u001b[0m_fit\u001b[0m\u001b[0;34m(\u001b[0m\u001b[0mself\u001b[0m\u001b[0;34m,\u001b[0m \u001b[0mdataset\u001b[0m\u001b[0;34m)\u001b[0m\u001b[0;34m:\u001b[0m\u001b[0;34m\u001b[0m\u001b[0;34m\u001b[0m\u001b[0m\n",
      "\u001b[0;32m~/.pyenv/versions/3.7.6/envs/vivadata/lib/python3.7/site-packages/py4j/java_gateway.py\u001b[0m in \u001b[0;36m__call__\u001b[0;34m(self, *args)\u001b[0m\n\u001b[1;32m   1303\u001b[0m         \u001b[0manswer\u001b[0m \u001b[0;34m=\u001b[0m \u001b[0mself\u001b[0m\u001b[0;34m.\u001b[0m\u001b[0mgateway_client\u001b[0m\u001b[0;34m.\u001b[0m\u001b[0msend_command\u001b[0m\u001b[0;34m(\u001b[0m\u001b[0mcommand\u001b[0m\u001b[0;34m)\u001b[0m\u001b[0;34m\u001b[0m\u001b[0;34m\u001b[0m\u001b[0m\n\u001b[1;32m   1304\u001b[0m         return_value = get_return_value(\n\u001b[0;32m-> 1305\u001b[0;31m             answer, self.gateway_client, self.target_id, self.name)\n\u001b[0m\u001b[1;32m   1306\u001b[0m \u001b[0;34m\u001b[0m\u001b[0m\n\u001b[1;32m   1307\u001b[0m         \u001b[0;32mfor\u001b[0m \u001b[0mtemp_arg\u001b[0m \u001b[0;32min\u001b[0m \u001b[0mtemp_args\u001b[0m\u001b[0;34m:\u001b[0m\u001b[0;34m\u001b[0m\u001b[0;34m\u001b[0m\u001b[0m\n",
      "\u001b[0;32m~/.pyenv/versions/3.7.6/envs/vivadata/lib/python3.7/site-packages/pyspark/sql/utils.py\u001b[0m in \u001b[0;36mdeco\u001b[0;34m(*a, **kw)\u001b[0m\n\u001b[1;32m    115\u001b[0m                 \u001b[0;31m# Hide where the exception came from that shows a non-Pythonic\u001b[0m\u001b[0;34m\u001b[0m\u001b[0;34m\u001b[0m\u001b[0;34m\u001b[0m\u001b[0m\n\u001b[1;32m    116\u001b[0m                 \u001b[0;31m# JVM exception message.\u001b[0m\u001b[0;34m\u001b[0m\u001b[0;34m\u001b[0m\u001b[0;34m\u001b[0m\u001b[0m\n\u001b[0;32m--> 117\u001b[0;31m                 \u001b[0;32mraise\u001b[0m \u001b[0mconverted\u001b[0m \u001b[0;32mfrom\u001b[0m \u001b[0;32mNone\u001b[0m\u001b[0;34m\u001b[0m\u001b[0;34m\u001b[0m\u001b[0m\n\u001b[0m\u001b[1;32m    118\u001b[0m             \u001b[0;32melse\u001b[0m\u001b[0;34m:\u001b[0m\u001b[0;34m\u001b[0m\u001b[0;34m\u001b[0m\u001b[0m\n\u001b[1;32m    119\u001b[0m                 \u001b[0;32mraise\u001b[0m\u001b[0;34m\u001b[0m\u001b[0;34m\u001b[0m\u001b[0m\n",
      "\u001b[0;31mIllegalArgumentException\u001b[0m: scaledFeatures does not exist. Available: dim[0], dim[1], dim[2]"
     ]
    }
   ],
   "source": [
    "pca=PCA(k=2,inputCol=\"scaledFeatures\",outputCol=\"pcaFeatures\")\n",
    "model=pca.fit(training_X)\n",
    "reduced_data=model.transform(scaledData).select(\"pcaFeatures\")\n",
    "new_data=reduced_data.toPandas()\n",
    "dataX=[]\n",
    "dataY=[]\n",
    "for vec in new_data.columns:\n",
    "    dataX.extend([vec[0][0]])\n",
    "    dataY.extend([vec[0][1]])\n",
    "plt.scatter(dataX,dataY)\n",
    "plt.show()"
   ]
  },
  {
   "cell_type": "code",
   "execution_count": null,
   "id": "ceae4701-46fb-4c5e-96bd-c385b551e3f3",
   "metadata": {},
   "outputs": [],
   "source": [
    "training_X.write.format('csv').option('header','true').save('s3a://pysparkcsvs3/pysparks3/emp_csv/emp.csv',mode='overwrite')"
   ]
  }
 ],
 "metadata": {
  "kernelspec": {
   "display_name": "Python 3",
   "language": "python",
   "name": "python3"
  },
  "language_info": {
   "codemirror_mode": {
    "name": "ipython",
    "version": 3
   },
   "file_extension": ".py",
   "mimetype": "text/x-python",
   "name": "python",
   "nbconvert_exporter": "python",
   "pygments_lexer": "ipython3",
   "version": "3.7.6"
  }
 },
 "nbformat": 4,
 "nbformat_minor": 5
}
